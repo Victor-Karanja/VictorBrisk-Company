{
 "cells": [
  {
   "cell_type": "code",
   "execution_count": 344,
   "id": "9c291c4e",
   "metadata": {},
   "outputs": [],
   "source": [
    "import requests as re\n",
    "from bs4 import BeautifulSoup\n",
    "import pandas as pd\n",
    "import numpy as np\n",
    "import matplotlib.pyplot as plt\n",
    "import seaborn as sns"
   ]
  },
  {
   "cell_type": "code",
   "execution_count": null,
   "id": "cb83b341",
   "metadata": {},
   "outputs": [],
   "source": [
    "onestop = re.get('https://www.onestopautogarage.co.ke/')\n",
    "kmautos = re.get('https://kmautospares.com/shop/')\n",
    "xpress = re.get('https://auto-xpress.co.ke/estore/')\n",
    "amex = re.get('https://amexautoparts.com/?srsltid=AfmBOoqsbMFLN5yOZmAFuzCVeglm2r19QATiIbS-b6_FaI27CE7MSxKt')\n",
    "jiji = re.get('https://jiji.co.ke/car-parts-and-accessories')\n",
    "tyrex = re.get('https://www.tyrexkenya.co.ke/')"
   ]
  },
  {
   "cell_type": "code",
   "execution_count": null,
   "id": "5ab2dd92",
   "metadata": {},
   "outputs": [],
   "source": [
    "\n",
    "jiji_container = BeautifulSoup(jiji.content,'html.parser')\n",
    "tyrex_container = BeautifulSoup(tyrex.content,'html.parser')"
   ]
  },
  {
   "cell_type": "markdown",
   "id": "e1e70fe5",
   "metadata": {},
   "source": [
    "## One stop Website"
   ]
  },
  {
   "cell_type": "code",
   "execution_count": null,
   "id": "b14c642d",
   "metadata": {},
   "outputs": [],
   "source": [
    "Product_names = []\n",
    "Product_prices = []\n",
    "Outlet = []\n",
    "Website = []\n",
    "Original_prices = []\n",
    "onestop_links = []\n",
    "\n",
    "onestop_container = BeautifulSoup(onestop.content,'html.parser')\n",
    "onestop_Category = onestop_container.find_all('div', {'class':'category-image-wrapp'})\n",
    "for link in range(len(onestop_Category)):\n",
    "    onestop_links.append(onestop_Category[link].find('a')['href'])\n",
    "\n",
    "for a in range(len(onestop_links)):\n",
    "    productload = re.get(onestop_links[a])\n",
    "    products = BeautifulSoup(productload.content,'html.parser')\n",
    "    product_items =products.find_all('div', {'class':'product-wrapper'})\n",
    "    for i in range(len(product_items)):\n",
    "        Product_names.append(product_items[i].find('h3').text)\n",
    "        Outlet.append('One Stop Auto Garage')\n",
    "        try:\n",
    "            Product_prices.append(product_items[i].find('span', {'class':'price'}).text.split('.00')[2].replace(\".KSh\\xa0\",\"\"))\n",
    "            Original_prices.append(product_items[i].find('span', {'class':'price'}).text.split('.00 Original')[0].replace(\"KSh\",\"\"))\n",
    "        except AttributeError:\n",
    "            Product_prices.append('Not listed')\n",
    "            Original_prices.append('Not listed')\n",
    "            i+=1\n",
    "        Website.append(onestop_links[a].strip('https://www.'))\n",
    "dataf = pd.DataFrame({'Product Name': Product_names, 'Original price':Original_prices ,'Product Price': Product_prices, 'Outlet': Outlet, 'Link': Website})\n",
    "dataf.head()"
   ]
  },
  {
   "cell_type": "markdown",
   "id": "ed46230a",
   "metadata": {},
   "source": [
    "## KMS AUTO Website"
   ]
  },
  {
   "cell_type": "code",
   "execution_count": null,
   "id": "bbed981f",
   "metadata": {},
   "outputs": [],
   "source": [
    "products = []\n",
    "Websites = []\n",
    "Outlets = []\n",
    "Products_name = []\n",
    "Product_price = []\n",
    "Old_price = []\n",
    "\n",
    "BASE_URL = \"https://kmautospares.com/shop/\"\n",
    "page_url = BASE_URL\n",
    "\n",
    "while page_url:\n",
    "\n",
    "    kmautos = re.get(page_url)\n",
    "    if kmautos.status_code != 200:\n",
    "        break\n",
    "    kmautos_container = BeautifulSoup(kmautos.content,'html.parser')\n",
    "    product_list = kmautos_container.find_all(\"li\", class_=\"product\")\n",
    "\n",
    "    for product in product_list:\n",
    "        name_tag = product.find(\"h2\", class_=\"woocommerce-loop-product__title\")\n",
    "\n",
    "        # Extract price\n",
    "        price_tag = product.find(\"span\", class_=\"price\")\n",
    "\n",
    "        Outlets.append('KM Auto Spares')\n",
    "\n",
    "        Products_name.append(name_tag.text if name_tag else \"N/A\")\n",
    "\n",
    "        Product_price.append(price_tag.text.split(': KSh')[2].replace(\".00.\",\"\") if price_tag else \"N/A\")\n",
    "        Old_price.append(price_tag.text.split('.00 Original')[0].replace(\"KSh\",\"\") if price_tag else \"N/A\")\n",
    "        Websites.append(page_url.strip('https://'))\n",
    "\n",
    "    # Find next page\n",
    "    next_link = kmautos_container.find(\"a\", class_=\"next page-numbers\")\n",
    "    page_url = next_link[\"href\"] if next_link else None\n",
    "\n",
    "# Find the \"Next\" page URL\n",
    "next_page = kmautos_container.select_one(\"a.next.page-numbers\")\n",
    "page_url = next_page['href'] if next_page else None\n",
    "    \n",
    "dataf2 = pd.DataFrame({'Product Name': Products_name, 'Original price': Old_price, 'Product Price': Product_price, 'Outlet': Outlets, 'Link': Websites})\n",
    "dataf2.head()"
   ]
  },
  {
   "cell_type": "markdown",
   "id": "c72ab7a4",
   "metadata": {},
   "source": [
    "## Xpress website"
   ]
  },
  {
   "cell_type": "code",
   "execution_count": null,
   "id": "4100e27e",
   "metadata": {},
   "outputs": [],
   "source": [
    "product_namees = []\n",
    "product_pricees = []\n",
    "rating = []\n",
    "Websites = []\n",
    "\n",
    "xpress_container = BeautifulSoup(xpress.content,'html.parser')\n",
    "xpress_links = [[xpress_container.find_all('a',{'class':'ct-link-text'})[i]['href'] for i in range(8)][i].replace('services-','') for i in range(len(xpress_links))]\n",
    "\n",
    "for i in range(len(xpress_links)):\n",
    "    url = xpress_links[i]\n",
    "    while url:\n",
    "        produces = re.get(url)\n",
    "        product_container = BeautifulSoup(produces.content,'html.parser')\n",
    "        product_items = product_container.find_all('a', {'class':'box-link'})\n",
    "        for i in range(len(product_items)):\n",
    "            product_namees.append(product_items[i].find('div', {'class':'grey-box-loop'}).text)\n",
    "            product_pricees.append(product_items[i].find('div', {'class':'title-price'}).text.split('KSh\\xa0')[1])\n",
    "            rating.append(product_items[i].find('div', {'class':'title-price'}).text.split(' ')[1])\n",
    "            Websites.append(url.split('https://auto-xpress.co.ke/')[1])\n",
    "\n",
    "        # Next Page\n",
    "        next_page = product_container.find('a',{'class':'wpv-filter-next-link js-wpv-pagination-next-link page-link'})\n",
    "        if next_page:\n",
    "            url = url+next_page['href']\n",
    "        else:\n",
    "            url = None\n",
    "            break\n",
    "    i+=1\n",
    "Outlets = ['Auto Xpress'] * len(product_namees)\n",
    "\n",
    "dataf3 = pd.DataFrame({'Product Name': product_namees,'Original price': product_pricees, 'Product Price': product_pricees, 'Outlet':Outlets,'Link':Websites})\n",
    "dataf3.head()"
   ]
  },
  {
   "cell_type": "markdown",
   "id": "aa69fb71",
   "metadata": {},
   "source": [
    "## Amex Autoparts"
   ]
  },
  {
   "cell_type": "code",
   "execution_count": null,
   "id": "ac47befc",
   "metadata": {},
   "outputs": [],
   "source": [
    "Product_nams = []\n",
    "Product_priceess = []\n",
    "Websites = []\n",
    "\n",
    "amex_container = BeautifulSoup(amex.content,'html.parser')\n",
    "amex_category_links = [amex_container.find_all('a',{'class':'nav-link dropdown-toggle'})[i]['href']for i in range(len(amex_container.find_all('a',{'class':'nav-link dropdown-toggle'})))]\n",
    "baseURL = 'https://amexautoparts.com/?srsltid=AfmBOoqsbMFLN5yOZmAFuzCVeglm2r19QATiIbS-b6_FaI27CE7MSxKt'\n",
    "Webpage = [baseURL+ amex_category_links[i] for i in range(len(amex_category_links))]\n",
    "for i in range(len(Webpage)):\n",
    "    nexxts = Webpage[i]\n",
    "    responses = re.get(nexxts)\n",
    "    print(f'Scrapping {Webpage[i]}')\n",
    "    j = 1\n",
    "    while responses.status_code == 200 and j<216:\n",
    "        amex_container = BeautifulSoup(responses.content,'html.parser')\n",
    "        Product_nams.append(amex_container.find_all('h5',{'class':'card-title product-card-name'})[i].text)\n",
    "        Product_priceess.append(amex_container.find_all('span',{'class':'stockrecord-price-current'})[i].text.split('KES ')[1])\n",
    "        Websites.append(Webpage[i].split('https://amexautoparts.com/?srsltid=AfmBOoqsbMFLN5yOZmAFuzCVeglm2r19QATiIbS-b6_FaI27CE7MSxKt')[1])\n",
    "        j += 1\n",
    "        next_page =Webpage[i] +'?page='+ str(j)\n",
    "        responses = re.get(next_page)\n",
    "        nexxts = BeautifulSoup(responses.content,'html.parser')\n",
    "Outlets = ['Amex Autoparts'] * len(Product_nams)\n",
    "dataf4 = pd.DataFrame({'Product Name': Product_nams, 'Original price': Product_priceess, 'Product Price': Product_priceess, 'Outlet': Outlets, 'Link': Websites})"
   ]
  },
  {
   "cell_type": "code",
   "execution_count": null,
   "id": "0216fee3",
   "metadata": {},
   "outputs": [],
   "source": [
    "dataf4['Original price'] = [dataf4['Original price'][i].split('\\n')[0] for i in range(len(dataf4['Original price']))]\n",
    "dataf4['Product Price'] = [dataf4['Product Price'][i].split('\\n')[0] for i in range(len(dataf4['Product Price']))]"
   ]
  },
  {
   "cell_type": "markdown",
   "id": "47c35443",
   "metadata": {},
   "source": [
    "## Combined Master Dataframe"
   ]
  },
  {
   "cell_type": "code",
   "execution_count": null,
   "id": "037d1095",
   "metadata": {},
   "outputs": [],
   "source": [
    "df = pd.concat([dataf, dataf2,dataf3,dataf4], ignore_index=True)\n",
    "df.head()"
   ]
  },
  {
   "cell_type": "code",
   "execution_count": null,
   "id": "65d8dbc4",
   "metadata": {},
   "outputs": [],
   "source": [
    "df.tail(30)"
   ]
  }
 ],
 "metadata": {
  "kernelspec": {
   "display_name": "base",
   "language": "python",
   "name": "python3"
  },
  "language_info": {
   "codemirror_mode": {
    "name": "ipython",
    "version": 3
   },
   "file_extension": ".py",
   "mimetype": "text/x-python",
   "name": "python",
   "nbconvert_exporter": "python",
   "pygments_lexer": "ipython3",
   "version": "3.12.7"
  }
 },
 "nbformat": 4,
 "nbformat_minor": 5
}
